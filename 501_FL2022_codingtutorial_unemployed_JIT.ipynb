{
 "cells": [
  {
   "cell_type": "markdown",
   "metadata": {
    "id": "MYoZHiBg3qHK"
   },
   "source": [
    "Unemployed worker's problem"
   ]
  },
  {
   "cell_type": "code",
   "execution_count": 1,
   "metadata": {
    "id": "WN-esdfu3nCA"
   },
   "outputs": [],
   "source": [
    "# Import libraries\n",
    "\n",
    "import numpy as np\n",
    "# import matplotlib.pyplot as plt\n",
    "from numba import njit, float64\n",
    "from numba.experimental import jitclass"
   ]
  },
  {
   "cell_type": "code",
   "execution_count": 2,
   "metadata": {
    "id": "OGQHm2P1dW33"
   },
   "outputs": [],
   "source": [
    "search_data = [\n",
    "    ('b', float64),      # unemployment compensation\n",
    "    ('beta', float64),   # discount factor\n",
    "    ('gamma', float64),  # risk aversion\n",
    "    ('w', float64[:]),   # array of wage values, w[i] = wage at state i\n",
    "    ('q', float64[:])    # array of probabilities\n",
    "]"
   ]
  },
  {
   "cell_type": "code",
   "execution_count": 3,
   "metadata": {
    "id": "9uMWLrSd36-v"
   },
   "outputs": [],
   "source": [
    "# Speificy parameter values\n",
    "\n",
    "b0 = 0.5 #employment benefit\n",
    "b1 = 0.8\n"
   ]
  },
  {
   "cell_type": "code",
   "execution_count": 4,
   "metadata": {
    "id": "2Ntgqwv1dxR-"
   },
   "outputs": [],
   "source": [
    "### Exogenous Wage Distribution\n",
    "n = 3_000\n",
    "w_min, w_max = 1, 2\n",
    "\n",
    "q_default = np.ones(n+1,dtype=float) / (n+1)      # Uniform distribution  \n",
    "\n",
    "w_default = np.linspace(w_min, w_max, n+1)"
   ]
  },
  {
   "cell_type": "code",
   "execution_count": 5,
   "metadata": {
    "id": "7OB16QbPdkDF"
   },
   "outputs": [],
   "source": [
    "@jitclass(search_data)\n",
    "class SearchModel:\n",
    "\n",
    "    def __init__(self, \n",
    "                b = b0,      \n",
    "                beta = 0.9,\n",
    "                gamma = 2.0, # For linear utility set gamma= 0.0\n",
    "                w=w_default, q=q_default):\n",
    "\n",
    "        self.b, self.beta, self.gamma = b, beta, gamma\n",
    "        self.w, self.q = w_default, q_default\n",
    "\n",
    "    # CRRA utility:\n",
    "    def u(self, x):\n",
    "        return (x**(1-self.gamma) - 1.0)/(1-self.gamma) \n",
    "        \n",
    "    # Inverse of utility\n",
    "    def u_inv(self, y):\n",
    "        return (y*(1-self.gamma) + 1)**(1/(1-self.gamma)) \n",
    "    \n",
    "\n",
    "    def state_action_values(self, i, v):\n",
    "        \"\"\"\n",
    "        The values of state-action pairs.\n",
    "        \"\"\"\n",
    "        # Simplify names\n",
    "        b, beta, w, q, u = self.b,self.beta, self.w, self.q, self.u\n",
    "        # Evaluate value for each state-action pair\n",
    "        # Consider action = accept or reject the current offer\n",
    "        Expect = np.sum(v * q)\n",
    "        accept = u(w[i]) / (1 -  beta) \n",
    "        reject = u(b) + beta * Expect\n",
    "\n",
    "        return np.array([accept, reject])"
   ]
  },
  {
   "cell_type": "code",
   "execution_count": 6,
   "metadata": {
    "id": "AEWLKh95eWi2"
   },
   "outputs": [],
   "source": [
    "@njit\n",
    "def compute_reservation_wage(model,\n",
    "                             max_iter=500,\n",
    "                             tol=1e-6):\n",
    "\n",
    "    # Simplify names\n",
    "    b, beta, w, q = model.b, model.beta, model.w, model.q\n",
    "    u, u_inv = model.u, model.u_inv\n",
    "\n",
    "    # value function \n",
    "    n = len(w)\n",
    "    v = u(w) / (1 - beta)        # initial guess\n",
    "    v_next = np.empty_like(v)\n",
    "    i = 0\n",
    "    error = tol + 1\n",
    "    while i < max_iter and error > tol:\n",
    "\n",
    "        for iw in range(n):\n",
    "            v_next[iw] = np.max(model.state_action_values(iw, v))\n",
    "\n",
    "        error = np.max(np.abs(v_next - v))\n",
    "        i += 1\n",
    "\n",
    "        v[:] = v_next  # copy contents into v\n",
    "\n",
    "    # reservation wage\n",
    "    expect = np.sum(v * q)\n",
    "    what = u_inv( (1-beta)*(u(b) + beta * expect))\n",
    "    return what\n"
   ]
  },
  {
   "cell_type": "code",
   "execution_count": 7,
   "metadata": {
    "colab": {
     "base_uri": "https://localhost:8080/"
    },
    "id": "E_0hO1OPej5e",
    "outputId": "0c73d546-ae61-4e2f-b0b8-ec0cea260a90"
   },
   "outputs": [
    {
     "name": "stdout",
     "output_type": "stream",
     "text": [
      "Reservation wage is nan\n"
     ]
    }
   ],
   "source": [
    "print(\"Reservation wage is {:.3f}\".format(compute_reservation_wage(SearchModel(b = b0))))"
   ]
  },
  {
   "cell_type": "code",
   "execution_count": 8,
   "metadata": {
    "id": "i4YXrYxDlSRA"
   },
   "outputs": [],
   "source": [
    "sm0 = SearchModel(b=b0)"
   ]
  },
  {
   "cell_type": "code",
   "execution_count": 9,
   "metadata": {
    "colab": {
     "base_uri": "https://localhost:8080/"
    },
    "id": "kjjLvnXyemn8",
    "outputId": "ca765e19-7e47-4fbf-890a-bc4dc13faedf"
   },
   "outputs": [
    {
     "name": "stdout",
     "output_type": "stream",
     "text": [
      "10 ms ± 166 µs per loop (mean ± std. dev. of 3 runs, 10 loops each)\n"
     ]
    }
   ],
   "source": [
    "%%timeit -r 3 -n 10\n",
    "result = compute_reservation_wage(sm0)"
   ]
  }
 ],
 "metadata": {
  "colab": {
   "collapsed_sections": [],
   "provenance": []
  },
  "kernelspec": {
   "display_name": "Python 3 (ipykernel)",
   "language": "python",
   "name": "python3"
  },
  "language_info": {
   "codemirror_mode": {
    "name": "ipython",
    "version": 3
   },
   "file_extension": ".py",
   "mimetype": "text/x-python",
   "name": "python",
   "nbconvert_exporter": "python",
   "pygments_lexer": "ipython3",
   "version": "3.9.7"
  },
  "vscode": {
   "interpreter": {
    "hash": "554618b8a0186a5fee04156fb169a7ffc3e59566a4491fe3e1c286fa8e153dd3"
   }
  }
 },
 "nbformat": 4,
 "nbformat_minor": 1
}
